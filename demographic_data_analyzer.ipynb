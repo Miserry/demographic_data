{
 "cells": [
  {
   "cell_type": "code",
   "execution_count": null,
   "id": "fdde3154",
   "metadata": {},
   "outputs": [],
   "source": [
    "import pandas as pd\n",
    "df = pd.read_csv('adult.data.csv')\n",
    "%precision %.2f"
   ]
  },
  {
   "cell_type": "code",
   "execution_count": null,
   "id": "469474f3",
   "metadata": {},
   "outputs": [],
   "source": [
    "def calculate_demographic_data(print_data=True):\n",
    "    df = pd.read_csv('adult.data.csv')"
   ]
  },
  {
   "cell_type": "code",
   "execution_count": null,
   "id": "4176c7f9",
   "metadata": {},
   "outputs": [],
   "source": [
    "df.head() #reads few rows, just to check if everything is correct."
   ]
  },
  {
   "cell_type": "markdown",
   "id": "a582baf1",
   "metadata": {},
   "source": [
    "How many of each race are represented in this dataset? This should be a Pandas series with race names as the index labels."
   ]
  },
  {
   "cell_type": "code",
   "execution_count": null,
   "id": "af73f6e1",
   "metadata": {},
   "outputs": [],
   "source": [
    "race = df.race.value_counts()  #value_counts() allows us to count the values by column('race')\n",
    "race                           #we can use df.race instead of df['race'] in order to save time."
   ]
  },
  {
   "cell_type": "code",
   "execution_count": null,
   "id": "ee1eabdb",
   "metadata": {},
   "outputs": [],
   "source": []
  },
  {
   "cell_type": "markdown",
   "id": "cbd903b8",
   "metadata": {},
   "source": [
    "What is the average age of men?"
   ]
  },
  {
   "cell_type": "markdown",
   "id": "7f0cff97",
   "metadata": {},
   "source": [
    "avg_age_male = df.groupby('sex', as_index=False).age.mean() #groupby = grouping by column('sex') and get the average age of each different sex with age.mean()(note that age is column here)"
   ]
  },
  {
   "cell_type": "markdown",
   "id": "38aceccb",
   "metadata": {},
   "source": [
    "pd.options.display.float_format = '{:,.2f}'.format  #Use that to format to the 2nd decimal number.\n",
    "print(f'{avg_age_male}')"
   ]
  },
  {
   "cell_type": "markdown",
   "id": "794dc0eb",
   "metadata": {},
   "source": [
    "avg_age_male.loc[1]  #.loc allows us to print a certain row."
   ]
  },
  {
   "cell_type": "markdown",
   "id": "cc63e744",
   "metadata": {},
   "source": [
    "."
   ]
  },
  {
   "cell_type": "markdown",
   "id": "d3cf67c6",
   "metadata": {},
   "source": [
    "More common way (familiar to me) to find the average age of a Male."
   ]
  },
  {
   "cell_type": "code",
   "execution_count": null,
   "id": "74349774",
   "metadata": {},
   "outputs": [],
   "source": [
    "male_age = df.sex == 'Male'\n",
    "male_age"
   ]
  },
  {
   "cell_type": "code",
   "execution_count": null,
   "id": "09813f00",
   "metadata": {},
   "outputs": [],
   "source": [
    "df[male_age]"
   ]
  },
  {
   "cell_type": "code",
   "execution_count": null,
   "id": "603fa6b4",
   "metadata": {},
   "outputs": [],
   "source": [
    "av_age = df[male_age].age.sum()/len(df[male_age])"
   ]
  },
  {
   "cell_type": "code",
   "execution_count": null,
   "id": "8e914146",
   "metadata": {},
   "outputs": [],
   "source": [
    "pd.options.display.float_format = '{:,.2f}'.format\n",
    "av_age"
   ]
  },
  {
   "cell_type": "markdown",
   "id": "8c20d7cd",
   "metadata": {},
   "source": [
    "What is the percentage of people who have a Bachelor's degree?"
   ]
  },
  {
   "cell_type": "code",
   "execution_count": null,
   "id": "b88af91f",
   "metadata": {},
   "outputs": [],
   "source": [
    "bach = df.education == 'Bachelors'\n",
    "bachelor_percent = len(df[bach])/len(df)\n",
    "bachelor_percent"
   ]
  },
  {
   "cell_type": "markdown",
   "id": "d67bee80",
   "metadata": {},
   "source": []
  },
  {
   "cell_type": "markdown",
   "id": "4f7f12a3",
   "metadata": {},
   "source": [
    "What percentage of people with advanced education (`Bachelors`, `Masters`, or `Doctorate`) make more than 50K?\n",
    "\n",
    "     What percentage of people without advanced education make more than 50K?\n",
    "     \n",
    "     with and without `Bachelors`, `Masters`, or `Doctorate`"
   ]
  },
  {
   "cell_type": "code",
   "execution_count": null,
   "id": "ae5ed23a",
   "metadata": {},
   "outputs": [],
   "source": [
    "high_edu = (df.education == \"Bachelors\") | (df.education == \"Masters\") | (df.education == \"Doctorate\")"
   ]
  },
  {
   "cell_type": "code",
   "execution_count": null,
   "id": "86dcb0df",
   "metadata": {},
   "outputs": [],
   "source": [
    "rich = (df.salary == \">50K\")"
   ]
  },
  {
   "cell_type": "code",
   "execution_count": null,
   "id": "5a5f57f1",
   "metadata": {},
   "outputs": [],
   "source": [
    "df.loc[high_edu, 'salary']"
   ]
  },
  {
   "cell_type": "code",
   "execution_count": null,
   "id": "34be8113",
   "metadata": {},
   "outputs": [],
   "source": [
    "df.loc[~high_edu, 'salary'] # \"~\" gives the opposite of the filtered."
   ]
  },
  {
   "cell_type": "code",
   "execution_count": null,
   "id": "33628628",
   "metadata": {},
   "outputs": [],
   "source": [
    "df.loc[rich, 'salary']"
   ]
  },
  {
   "cell_type": "code",
   "execution_count": null,
   "id": "c4795e34",
   "metadata": {},
   "outputs": [],
   "source": [
    "hi_edu_rich = df.loc[high_edu & rich]\n",
    "hi_edu_rich"
   ]
  },
  {
   "cell_type": "code",
   "execution_count": null,
   "id": "eea56465",
   "metadata": {},
   "outputs": [],
   "source": [
    "high_edu_rich_percent = len(hi_edu_rich) / len(df.loc[high_edu])"
   ]
  },
  {
   "cell_type": "code",
   "execution_count": null,
   "id": "89e54775",
   "metadata": {},
   "outputs": [],
   "source": [
    "high_edu_rich_percent"
   ]
  },
  {
   "cell_type": "code",
   "execution_count": null,
   "id": "00365851",
   "metadata": {},
   "outputs": [],
   "source": [
    "low_edu = df.loc[~high_edu]\n",
    "len(low_edu)"
   ]
  },
  {
   "cell_type": "code",
   "execution_count": null,
   "id": "f7803e75",
   "metadata": {},
   "outputs": [],
   "source": [
    "low_edu_rich = (df.loc[~high_edu & rich])"
   ]
  },
  {
   "cell_type": "code",
   "execution_count": null,
   "id": "f17ca102",
   "metadata": {},
   "outputs": [],
   "source": [
    "low_edu_rich"
   ]
  },
  {
   "cell_type": "code",
   "execution_count": null,
   "id": "57c73f5e",
   "metadata": {},
   "outputs": [],
   "source": [
    "low_edu_percent = len(low_edu_rich) / len(low_edu)"
   ]
  },
  {
   "cell_type": "code",
   "execution_count": null,
   "id": "0c2b8225",
   "metadata": {},
   "outputs": [],
   "source": [
    "low_edu_percent"
   ]
  },
  {
   "cell_type": "markdown",
   "id": "7bccb646",
   "metadata": {},
   "source": [
    "### What is the minimum number of hours a person works per week (hours-per-week feature)?"
   ]
  },
  {
   "cell_type": "code",
   "execution_count": null,
   "id": "f297230c",
   "metadata": {},
   "outputs": [],
   "source": [
    "df.columns = df.columns.str.replace(\"-\", \"_\")\n",
    "df.columns      #need to fix hours-per-week in order to be able to use it."
   ]
  },
  {
   "cell_type": "code",
   "execution_count": null,
   "id": "8f1b84f6",
   "metadata": {},
   "outputs": [],
   "source": [
    "df.hours_per_week.value_counts()"
   ]
  },
  {
   "cell_type": "code",
   "execution_count": null,
   "id": "5f5841c0",
   "metadata": {
    "scrolled": true
   },
   "outputs": [],
   "source": [
    "df['hours_per_week'].min()"
   ]
  },
  {
   "cell_type": "code",
   "execution_count": null,
   "id": "1565cad7",
   "metadata": {},
   "outputs": [],
   "source": [
    "min_hours = df.hours_per_week == 1\n",
    "min_hours_rich = (df.loc[rich])"
   ]
  },
  {
   "cell_type": "code",
   "execution_count": null,
   "id": "26c98e7d",
   "metadata": {},
   "outputs": [],
   "source": [
    "df.loc[min_hours & rich]"
   ]
  },
  {
   "cell_type": "code",
   "execution_count": null,
   "id": "7d9ce332",
   "metadata": {},
   "outputs": [],
   "source": [
    "rich_percentage = (len(df.loc[min_hours & rich])/len(df.loc[min_hours]))\n",
    "rich_percentage"
   ]
  },
  {
   "cell_type": "code",
   "execution_count": null,
   "id": "03f9f110",
   "metadata": {},
   "outputs": [],
   "source": []
  }
 ],
 "metadata": {
  "kernelspec": {
   "display_name": "Python 3 (ipykernel)",
   "language": "python",
   "name": "python3"
  },
  "language_info": {
   "codemirror_mode": {
    "name": "ipython",
    "version": 3
   },
   "file_extension": ".py",
   "mimetype": "text/x-python",
   "name": "python",
   "nbconvert_exporter": "python",
   "pygments_lexer": "ipython3",
   "version": "3.9.12"
  }
 },
 "nbformat": 4,
 "nbformat_minor": 5
}
